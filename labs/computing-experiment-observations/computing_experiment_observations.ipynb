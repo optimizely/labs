{
 "cells": [
  {
   "cell_type": "markdown",
   "metadata": {},
   "source": [
    "# Computing Experiment Datasets #2: Experiment Observations\n",
    "\n",
    "This Lab is part of a multi-part series focused on computing useful experiment datasets. In this Lab, we'll use [PySpark](https://spark.apache.org/docs/latest/api/python/index.html) to compute _experiment observations_.\n",
    "\n",
    "<!-- We use an external image URL rather than a relative path so that this notebook will be rendered correctly on the Optimizely Labs website -->\n",
    "![Experiment observations computation](https://raw.githubusercontent.com/optimizely/labs/master/labs/computing-experiment-subjects/img/observations_computation.png)\n",
    "\n",
    "**Experiment observations** map [experiment subjects](https://www.optimizely.com/labs/computing-experiment-subjects/) onto numerical observations made about each subject during an experiment:\n",
    "\n",
    "| subject_id | experiment_id | variation_id | timestamp                | ordered? | order_count | items_ordered | revenue |\n",
    "|------------|---------------|--------------|--------------------------|----------|-------------|---------------|---------|\n",
    "| visitor_1  | 12345         | A            | July 20th, 2020 14:25:00 | 0        | 0           | 0             | 0       |\n",
    "| visitor_2  | 12345         | B            | July 20th, 2020 14:28:13 | 1        | 2           | 12            | 65.21   |\n",
    "| visitor_3  | 12345         | A            | July 20th, 2020 14:31:01 | 1        | 1           | 1             | 5.99    |\n",
    "\n",
    "\n",
    "In this Lab we'll join a visitor-level **subjects** input dataset with an event-level **conversions** dataset to produce a subject-level **observatations** output dataset.  This output dataset contains a record of who was exposed to our experiment, which treatment they received, and when they first received it, along with a set of numerical observations about each subject.  This dataset is useful for\n",
    "- computing aggregate statistics about an experiment, such as the number of visitors saw each \"variation\" on a given day, the total number of purchases associated with each experimental treatment, etc.\n",
    "- computing and visualizing business metrics for each variation in an experiment\n",
    "- performing statistical analysis on the change observed in your business metrics in an experiment\n",
    "\n",
    "This Lab is generated from a Jupyter Notebook.  Scroll to the bottom of this page for instructions on how to run it on your own machine."
   ]
  },
  {
   "cell_type": "markdown",
   "metadata": {},
   "source": [
    "## Analysis parameters\n",
    "\n",
    "We'll use the following the parameterize our computation."
   ]
  },
  {
   "cell_type": "markdown",
   "metadata": {},
   "source": [
    "### Local Data Storage\n",
    "\n",
    "These parameters specify where this notebook should read and write data. The default location is `./example_data` in this notebook's directory.  You can point the notebook to another data directory by setting the `OPTIMIZELY_DATA_DIR` environment variable, e.g.\n",
    "\n",
    "```sh\n",
    "$ export OPTIMIZELY_DATA_DIR=~/optimizely_data\n",
    "```"
   ]
  },
  {
   "cell_type": "code",
   "execution_count": 8,
   "metadata": {},
   "outputs": [],
   "source": [
    "import os\n",
    "\n",
    "# Local data storage locations\n",
    "base_data_dir = os.environ.get(\"OPTIMIZELY_DATA_DIR\", \"./example_data\")\n",
    "subjects_data_dir = os.path.join(base_data_dir, \"type=subjects\")\n",
    "events_data_dir = os.path.join(base_data_dir, \"type=events\")\n",
    "observations_output_dir = os.path.join(base_data_dir, \"type=observations\")"
   ]
  },
  {
   "cell_type": "markdown",
   "metadata": {},
   "source": [
    "### Subject ID column\n",
    "\n",
    "This column is used to join our _experiment subjects_ dataset with our _conversion events_ dataset.  See the [experiment subjects](https://www.optimizely.com/labs/computing-experiment-subjects/) Lab for more details on this parameter."
   ]
  },
  {
   "cell_type": "code",
   "execution_count": 2,
   "metadata": {},
   "outputs": [],
   "source": [
    "# Subject ID column\n",
    "subject_id = \"visitor_id\""
   ]
  },
  {
   "cell_type": "markdown",
   "metadata": {},
   "source": [
    "### Analysis Window\n",
    "\n",
    "Your analysis window determines which conversion events are included in your analysis.\n",
    "\n",
    "The default window in this notebook is large enough that *all* subjects and events will be included in the computation, but you can adjust this to focus on a specific time window if desired."
   ]
  },
  {
   "cell_type": "code",
   "execution_count": 6,
   "metadata": {},
   "outputs": [],
   "source": [
    "from datetime import datetime\n",
    "\n",
    "# Analysis window\n",
    "events_start = \"2000-01-01 00:00:00\"\n",
    "events_end = \"2099-12-31 23:59:59\"\n",
    "\n",
    "# The following are useful for converting timestamps from Optimizely results page URLs into\n",
    "# an analysis window that can be used by the queries in this notebook.\n",
    "# events_start = datetime.fromtimestamp(1592416545427 / 1000).strftime('%Y-%m-%d %H:%M:%S')\n",
    "# events_end = datetime.fromtimestamp(1593108481887 / 1000).strftime('%Y-%m-%d %H:%M:%S')"
   ]
  },
  {
   "cell_type": "markdown",
   "metadata": {},
   "source": [
    "### Attribution Window\n",
    "\n",
    "The _attribution window_ denotes the time period after a visitor is first exposed to an experiment during which events are recorded for analysis. If the attribution window is 24 hours, for example, only conversion events recorded during the first 24 hours after a visitor is first exposed to an experiment will be included in the analysis.\n",
    "\n",
    "Note that Optimizely's [experiment results reports](https://help.optimizely.com/Analyze_Results/The_Experiment_Results_page_for_Optimizely_X) do not use a fixed attribution window for computing experiment results.  With this in mind, we set the default value to a large number (60 days), but this may be adjusted if desired."
   ]
  },
  {
   "cell_type": "code",
   "execution_count": 4,
   "metadata": {},
   "outputs": [],
   "source": [
    "# Attribution window\n",
    "\n",
    "attribution_window_hours = 24 * 60"
   ]
  },
  {
   "cell_type": "markdown",
   "metadata": {},
   "source": [
    "## Creating a Spark Session"
   ]
  },
  {
   "cell_type": "code",
   "execution_count": 14,
   "metadata": {},
   "outputs": [],
   "source": [
    "from pyspark.sql import SparkSession\n",
    "\n",
    "spark = SparkSession \\\n",
    "    .builder \\\n",
    "    .appName(\"Python Spark SQL\") \\\n",
    "    .config(\"spark.sql.repl.eagerEval.enabled\", True) \\\n",
    "    .config(\"spark.sql.repl.eagerEval.truncate\", 120) \\\n",
    "    .config(\"spark.driver.bindAddress\", \"127.0.0.1\") \\\n",
    "    .getOrCreate()"
   ]
  },
  {
   "cell_type": "markdown",
   "metadata": {},
   "source": [
    "## Load subject data\n",
    "\n",
    "We'll start by loading decision data and isolating the decisions for the experiment specified by `experiment_id` and the time window specfied by `decisions_start` and `decisions_end`."
   ]
  },
  {
   "cell_type": "code",
   "execution_count": 20,
   "metadata": {},
   "outputs": [
    {
     "data": {
      "text/html": [
       "<table border='1'>\n",
       "<tr><th>visitor_id</th><th>variation_id</th><th>timestamp</th><th>experiment_id</th></tr>\n",
       "<tr><td>visitor_1590445653085</td><td>18174970251</td><td>2020-05-25 15:27:33.085</td><td>18156943409</td></tr>\n",
       "<tr><td>visitor_1590445653325</td><td>18112613000</td><td>2020-05-25 15:27:33.325</td><td>18156943409</td></tr>\n",
       "<tr><td>visitor_1590445653565</td><td>18112613000</td><td>2020-05-25 15:27:33.565</td><td>18156943409</td></tr>\n",
       "<tr><td>visitor_1590445653805</td><td>18174970251</td><td>2020-05-25 15:27:33.805</td><td>18156943409</td></tr>\n",
       "<tr><td>visitor_1590445654045</td><td>18174970251</td><td>2020-05-25 15:27:34.045</td><td>18156943409</td></tr>\n",
       "</table>\n"
      ],
      "text/plain": [
       "+---------------------+------------+-----------------------+-------------+\n",
       "|           visitor_id|variation_id|              timestamp|experiment_id|\n",
       "+---------------------+------------+-----------------------+-------------+\n",
       "|visitor_1590445653085| 18174970251|2020-05-25 15:27:33.085|  18156943409|\n",
       "|visitor_1590445653325| 18112613000|2020-05-25 15:27:33.325|  18156943409|\n",
       "|visitor_1590445653565| 18112613000|2020-05-25 15:27:33.565|  18156943409|\n",
       "|visitor_1590445653805| 18174970251|2020-05-25 15:27:33.805|  18156943409|\n",
       "|visitor_1590445654045| 18174970251|2020-05-25 15:27:34.045|  18156943409|\n",
       "+---------------------+------------+-----------------------+-------------+"
      ]
     },
     "execution_count": 20,
     "metadata": {},
     "output_type": "execute_result"
    }
   ],
   "source": [
    "spark.read.parquet(subjects_data_dir).createOrReplaceTempView(\"experiment_subjects\")\n",
    "\n",
    "spark.sql(\"SELECT * FROM experiment_subjects LIMIT 5\")"
   ]
  },
  {
   "cell_type": "markdown",
   "metadata": {},
   "source": [
    "## Load conversion data\n",
    "\n",
    "Here's the conversion data."
   ]
  },
  {
   "cell_type": "code",
   "execution_count": 21,
   "metadata": {},
   "outputs": [
    {
     "data": {
      "text/html": [
       "<table border='1'>\n",
       "<tr><th>uuid</th><th>timestamp</th><th>process_timestamp</th><th>visitor_id</th><th>session_id</th><th>account_id</th><th>experiments</th><th>entity_id</th><th>attributes</th><th>user_ip</th><th>user_agent</th><th>referer</th><th>event_type</th><th>event_name</th><th>revenue</th><th>value</th><th>quantity</th><th>tags</th><th>revision</th><th>client_engine</th><th>client_version</th></tr>\n",
       "<tr><td>235ABEC8-C9A1-4484-94AF-FB107524BFF8</td><td>2020-05-24 17:34:27.448</td><td>2020-05-24 17:41:59.059</td><td>visitor_1590366867448</td><td>-1274245065</td><td>596780373</td><td>[[18128690585, 18142600572, 18130191769, false]]</td><td>15776040040</td><td>[[100,, browserId, ff], [300,, device, ipad], [600,, source_type, campaign], [200,, campaign, frequent visitors], [, ...</td><td>174.222.139.0</td><td>Mozilla/5.0 (Macintosh; Intel Mac OS X 10_15_4) AppleWebKit/537.36 (KHTML, like Gecko) Chrome/81.0.4044.138 Safari/53...</td><td>https://app.optimizely.com/</td><td>null</td><td>add_to_cart</td><td>1000</td><td>1000.00001</td><td>null</td><td>[]</td><td>null</td><td>ricky/fakedata.pwned</td><td>1.0.0</td></tr>\n",
       "</table>\n"
      ],
      "text/plain": [
       "+------------------------------------+-----------------------+-----------------------+---------------------+-----------+----------+------------------------------------------------+-----------+------------------------------------------------------------------------------------------------------------------------+-------------+------------------------------------------------------------------------------------------------------------------------+---------------------------+----------+-----------+-------+----------+--------+----+--------+--------------------+--------------+\n",
       "|                                uuid|              timestamp|      process_timestamp|           visitor_id| session_id|account_id|                                     experiments|  entity_id|                                                                                                              attributes|      user_ip|                                                                                                              user_agent|                    referer|event_type| event_name|revenue|     value|quantity|tags|revision|       client_engine|client_version|\n",
       "+------------------------------------+-----------------------+-----------------------+---------------------+-----------+----------+------------------------------------------------+-----------+------------------------------------------------------------------------------------------------------------------------+-------------+------------------------------------------------------------------------------------------------------------------------+---------------------------+----------+-----------+-------+----------+--------+----+--------+--------------------+--------------+\n",
       "|235ABEC8-C9A1-4484-94AF-FB107524BFF8|2020-05-24 17:34:27.448|2020-05-24 17:41:59.059|visitor_1590366867448|-1274245065| 596780373|[[18128690585, 18142600572, 18130191769, false]]|15776040040|[[100,, browserId, ff], [300,, device, ipad], [600,, source_type, campaign], [200,, campaign, frequent visitors], [, ...|174.222.139.0|Mozilla/5.0 (Macintosh; Intel Mac OS X 10_15_4) AppleWebKit/537.36 (KHTML, like Gecko) Chrome/81.0.4044.138 Safari/53...|https://app.optimizely.com/|      null|add_to_cart|   1000|1000.00001|    null|  []|    null|ricky/fakedata.pwned|         1.0.0|\n",
       "+------------------------------------+-----------------------+-----------------------+---------------------+-----------+----------+------------------------------------------------+-----------+------------------------------------------------------------------------------------------------------------------------+-------------+------------------------------------------------------------------------------------------------------------------------+---------------------------+----------+-----------+-------+----------+--------+----+--------+--------------------+--------------+"
      ]
     },
     "execution_count": 21,
     "metadata": {},
     "output_type": "execute_result"
    }
   ],
   "source": [
    "spark.read.parquet(events_data_dir).createOrReplaceTempView(\"loaded_events\")\n",
    "\n",
    "spark.sql(f\"\"\"\n",
    "    CREATE OR REPLACE TEMPORARY VIEW events as\n",
    "        SELECT \n",
    "            *\n",
    "        FROM \n",
    "            loaded_events\n",
    "        WHERE\n",
    "            timestamp BETWEEN '{events_start}' AND '{events_end}'\n",
    "\"\"\")\n",
    "\n",
    "spark.sql(\"SELECT * FROM events LIMIT 1\")"
   ]
  },
  {
   "cell_type": "markdown",
   "metadata": {},
   "source": [
    "We can group by `event_name` to count the number of each event type loaded."
   ]
  },
  {
   "cell_type": "code",
   "execution_count": 22,
   "metadata": {},
   "outputs": [
    {
     "data": {
      "text/html": [
       "<div>\n",
       "<style scoped>\n",
       "    .dataframe tbody tr th:only-of-type {\n",
       "        vertical-align: middle;\n",
       "    }\n",
       "\n",
       "    .dataframe tbody tr th {\n",
       "        vertical-align: top;\n",
       "    }\n",
       "\n",
       "    .dataframe thead th {\n",
       "        text-align: right;\n",
       "    }\n",
       "</style>\n",
       "<table border=\"1\" class=\"dataframe\">\n",
       "  <thead>\n",
       "    <tr style=\"text-align: right;\">\n",
       "      <th></th>\n",
       "      <th>event_name</th>\n",
       "      <th>count of events</th>\n",
       "    </tr>\n",
       "  </thead>\n",
       "  <tbody>\n",
       "    <tr>\n",
       "      <th>0</th>\n",
       "      <td>add_to_cart</td>\n",
       "      <td>11109</td>\n",
       "    </tr>\n",
       "  </tbody>\n",
       "</table>\n",
       "</div>"
      ],
      "text/plain": [
       "    event_name  count of events\n",
       "0  add_to_cart            11109"
      ]
     },
     "execution_count": 22,
     "metadata": {},
     "output_type": "execute_result"
    }
   ],
   "source": [
    "spark.sql(\"SELECT event_name, COUNT(1) as `count of events` FROM events GROUP BY event_name\").toPandas()"
   ]
  },
  {
   "cell_type": "markdown",
   "metadata": {},
   "source": [
    "## Compute experiment events\n",
    "\n",
    "Next we'll isolate the events that can be attributed to each experiment, which we'll call _experiment events_.  An experiment event is an event triggered during a finite window of time (called the _attribution window_) after a visitor has been exposed to an experiment treatment."
   ]
  },
  {
   "cell_type": "code",
   "execution_count": 25,
   "metadata": {},
   "outputs": [
    {
     "data": {
      "text/html": [
       "<table border='1'>\n",
       "<tr><th>experiment_id</th><th>variation_id</th><th>event_name</th><th>experiment_event_count</th></tr>\n",
       "<tr><td>18156943409</td><td>18112613000</td><td>add_to_cart</td><td>2577</td></tr>\n",
       "<tr><td>18156943409</td><td>18174970251</td><td>add_to_cart</td><td>2655</td></tr>\n",
       "</table>\n"
      ],
      "text/plain": [
       "+-------------+------------+-----------+----------------------+\n",
       "|experiment_id|variation_id| event_name|experiment_event_count|\n",
       "+-------------+------------+-----------+----------------------+\n",
       "|  18156943409| 18112613000|add_to_cart|                  2577|\n",
       "|  18156943409| 18174970251|add_to_cart|                  2655|\n",
       "+-------------+------------+-----------+----------------------+"
      ]
     },
     "execution_count": 25,
     "metadata": {},
     "output_type": "execute_result"
    }
   ],
   "source": [
    "spark.sql(f\"\"\"\n",
    "    CREATE OR REPLACE TEMPORARY VIEW experiment_events AS\n",
    "        SELECT\n",
    "            u.experiment_id,\n",
    "            u.variation_id,\n",
    "            e.*\n",
    "        FROM\n",
    "            experiment_subjects u INNER JOIN events e ON u.{subject_id} = e.{subject_id}\n",
    "        WHERE\n",
    "            e.timestamp BETWEEN u.timestamp AND (u.timestamp + INTERVAL {attribution_window_hours} HOURS)\n",
    "\"\"\")\n",
    "\n",
    "spark.sql(\"\"\"\n",
    "    SELECT \n",
    "        experiment_id,\n",
    "        variation_id,\n",
    "        event_name,\n",
    "        COUNT(1) as `experiment_event_count` \n",
    "    FROM \n",
    "        experiment_events \n",
    "    GROUP BY\n",
    "        experiment_id,\n",
    "        variation_id,\n",
    "        event_name\n",
    "\"\"\"\n",
    ")"
   ]
  },
  {
   "cell_type": "markdown",
   "metadata": {},
   "source": [
    "## Compute experiment observations\n",
    "\n",
    "Next we'll compute a versatile dataset for experiment analysis: _experiment observations_.\n",
    "\n",
    "In this dataset we map each experiment subject (visitor) to a set of numerical observations made in the course of the experiment.  These observations may then be aggregated to compute _metrics_ we can analyze to measure the impact of our experiment.\n",
    "\n",
    "We'll start by creating a dictionary to store observations.  Observations are specified by a name, and a query.  The query should operate on our `experiment_events` table, and should select two columns: "
   ]
  },
  {
   "cell_type": "code",
   "execution_count": 9,
   "metadata": {},
   "outputs": [],
   "source": [
    "metrics = {}\n",
    "\n",
    "def add_observation(name, query):\n",
    "    \"\"\"Add a metric to the global metrics list.\n",
    "    \n",
    "    Each metric is specified by a metric name and a query.  The query \"\"\"\n",
    "    query_frame = spark.sql(query)\n",
    "    metrics[name] = query_frame\n",
    "    display(query_frame.toPandas().head(5))"
   ]
  },
  {
   "cell_type": "markdown",
   "metadata": {},
   "source": [
    "Now we'll define a set of metrics by executing simple queries on our experiment events.  Each query computes a single _observation_ for each subject."
   ]
  },
  {
   "cell_type": "markdown",
   "metadata": {},
   "source": [
    "### Metric: `add_to_cart` unique Conversions\n",
    "\n",
    "In this query we compute the number of unique conversions on a particular event. The resulting observation should be `1` if the visitor triggered the event in question during the _attribution window_ and `0` otherwise.  \n",
    "\n",
    "Since _any_ visitor who triggered an appropriate experiment event should be counted, we can simply select a `1`. "
   ]
  },
  {
   "cell_type": "code",
   "execution_count": 10,
   "metadata": {},
   "outputs": [
    {
     "data": {
      "text/html": [
       "<div>\n",
       "<style scoped>\n",
       "    .dataframe tbody tr th:only-of-type {\n",
       "        vertical-align: middle;\n",
       "    }\n",
       "\n",
       "    .dataframe tbody tr th {\n",
       "        vertical-align: top;\n",
       "    }\n",
       "\n",
       "    .dataframe thead th {\n",
       "        text-align: right;\n",
       "    }\n",
       "</style>\n",
       "<table border=\"1\" class=\"dataframe\">\n",
       "  <thead>\n",
       "    <tr style=\"text-align: right;\">\n",
       "      <th></th>\n",
       "      <th>visitor_id</th>\n",
       "      <th>observation</th>\n",
       "    </tr>\n",
       "  </thead>\n",
       "  <tbody>\n",
       "    <tr>\n",
       "      <th>0</th>\n",
       "      <td>visitor_1590445778365</td>\n",
       "      <td>1</td>\n",
       "    </tr>\n",
       "    <tr>\n",
       "      <th>1</th>\n",
       "      <td>visitor_1590445862125</td>\n",
       "      <td>1</td>\n",
       "    </tr>\n",
       "    <tr>\n",
       "      <th>2</th>\n",
       "      <td>visitor_1590445964845</td>\n",
       "      <td>1</td>\n",
       "    </tr>\n",
       "    <tr>\n",
       "      <th>3</th>\n",
       "      <td>visitor_1590445992445</td>\n",
       "      <td>1</td>\n",
       "    </tr>\n",
       "    <tr>\n",
       "      <th>4</th>\n",
       "      <td>visitor_1590446016445</td>\n",
       "      <td>1</td>\n",
       "    </tr>\n",
       "  </tbody>\n",
       "</table>\n",
       "</div>"
      ],
      "text/plain": [
       "              visitor_id  observation\n",
       "0  visitor_1590445778365            1\n",
       "1  visitor_1590445862125            1\n",
       "2  visitor_1590445964845            1\n",
       "3  visitor_1590445992445            1\n",
       "4  visitor_1590446016445            1"
      ]
     },
     "metadata": {},
     "output_type": "display_data"
    }
   ],
   "source": [
    "## Unique conversions on the \"capture\" event.\n",
    "add_metric('add_to_cart_Unique_Conversions',\n",
    "    f\"\"\"\n",
    "        SELECT\n",
    "            {event_subject_id},\n",
    "            1 as observation\n",
    "        FROM\n",
    "            experiment_events\n",
    "        WHERE\n",
    "            event_name = \"add_to_cart\"\n",
    "        GROUP BY\n",
    "            {event_subject_id}\n",
    "    \"\"\"\n",
    ")\n",
    "\n"
   ]
  },
  {
   "cell_type": "markdown",
   "metadata": {},
   "source": [
    "### Metric: `add_to_cart` conversion counts\n",
    "\n",
    "In this query we compute the number of conversions on a particular event. "
   ]
  },
  {
   "cell_type": "code",
   "execution_count": 11,
   "metadata": {},
   "outputs": [
    {
     "data": {
      "text/html": [
       "<div>\n",
       "<style scoped>\n",
       "    .dataframe tbody tr th:only-of-type {\n",
       "        vertical-align: middle;\n",
       "    }\n",
       "\n",
       "    .dataframe tbody tr th {\n",
       "        vertical-align: top;\n",
       "    }\n",
       "\n",
       "    .dataframe thead th {\n",
       "        text-align: right;\n",
       "    }\n",
       "</style>\n",
       "<table border=\"1\" class=\"dataframe\">\n",
       "  <thead>\n",
       "    <tr style=\"text-align: right;\">\n",
       "      <th></th>\n",
       "      <th>visitor_id</th>\n",
       "      <th>observation</th>\n",
       "    </tr>\n",
       "  </thead>\n",
       "  <tbody>\n",
       "    <tr>\n",
       "      <th>0</th>\n",
       "      <td>visitor_1590445778365</td>\n",
       "      <td>1</td>\n",
       "    </tr>\n",
       "    <tr>\n",
       "      <th>1</th>\n",
       "      <td>visitor_1590445862125</td>\n",
       "      <td>1</td>\n",
       "    </tr>\n",
       "    <tr>\n",
       "      <th>2</th>\n",
       "      <td>visitor_1590445964845</td>\n",
       "      <td>1</td>\n",
       "    </tr>\n",
       "    <tr>\n",
       "      <th>3</th>\n",
       "      <td>visitor_1590445992445</td>\n",
       "      <td>1</td>\n",
       "    </tr>\n",
       "    <tr>\n",
       "      <th>4</th>\n",
       "      <td>visitor_1590446016445</td>\n",
       "      <td>1</td>\n",
       "    </tr>\n",
       "  </tbody>\n",
       "</table>\n",
       "</div>"
      ],
      "text/plain": [
       "              visitor_id  observation\n",
       "0  visitor_1590445778365            1\n",
       "1  visitor_1590445862125            1\n",
       "2  visitor_1590445964845            1\n",
       "3  visitor_1590445992445            1\n",
       "4  visitor_1590446016445            1"
      ]
     },
     "metadata": {},
     "output_type": "display_data"
    }
   ],
   "source": [
    "## Unique conversions on the \"capture\" event.\n",
    "add_metric('add_to_cart_Total_Conversions',\n",
    "    f\"\"\"\n",
    "        SELECT\n",
    "            {event_subject_id},\n",
    "            count(1) as observation\n",
    "        FROM\n",
    "            experiment_events\n",
    "        WHERE\n",
    "            event_name = \"add_to_cart\"\n",
    "        GROUP BY\n",
    "            {event_subject_id}\n",
    "        ORDER BY\n",
    "            observation DESC\n",
    "    \"\"\"\n",
    ")"
   ]
  },
  {
   "cell_type": "markdown",
   "metadata": {},
   "source": [
    "### Metric: `add_to_cart` revenue\n",
    "\n",
    "In this query we sum the revenue associated with attributed`add_to_cart` event revenue associated with each visitor."
   ]
  },
  {
   "cell_type": "code",
   "execution_count": 12,
   "metadata": {},
   "outputs": [
    {
     "data": {
      "text/html": [
       "<div>\n",
       "<style scoped>\n",
       "    .dataframe tbody tr th:only-of-type {\n",
       "        vertical-align: middle;\n",
       "    }\n",
       "\n",
       "    .dataframe tbody tr th {\n",
       "        vertical-align: top;\n",
       "    }\n",
       "\n",
       "    .dataframe thead th {\n",
       "        text-align: right;\n",
       "    }\n",
       "</style>\n",
       "<table border=\"1\" class=\"dataframe\">\n",
       "  <thead>\n",
       "    <tr style=\"text-align: right;\">\n",
       "      <th></th>\n",
       "      <th>visitor_id</th>\n",
       "      <th>observation</th>\n",
       "    </tr>\n",
       "  </thead>\n",
       "  <tbody>\n",
       "    <tr>\n",
       "      <th>0</th>\n",
       "      <td>visitor_1590445778365</td>\n",
       "      <td>0</td>\n",
       "    </tr>\n",
       "    <tr>\n",
       "      <th>1</th>\n",
       "      <td>visitor_1590445862125</td>\n",
       "      <td>0</td>\n",
       "    </tr>\n",
       "    <tr>\n",
       "      <th>2</th>\n",
       "      <td>visitor_1590445964845</td>\n",
       "      <td>0</td>\n",
       "    </tr>\n",
       "    <tr>\n",
       "      <th>3</th>\n",
       "      <td>visitor_1590445992445</td>\n",
       "      <td>0</td>\n",
       "    </tr>\n",
       "    <tr>\n",
       "      <th>4</th>\n",
       "      <td>visitor_1590446016445</td>\n",
       "      <td>0</td>\n",
       "    </tr>\n",
       "  </tbody>\n",
       "</table>\n",
       "</div>"
      ],
      "text/plain": [
       "              visitor_id  observation\n",
       "0  visitor_1590445778365            0\n",
       "1  visitor_1590445862125            0\n",
       "2  visitor_1590445964845            0\n",
       "3  visitor_1590445992445            0\n",
       "4  visitor_1590446016445            0"
      ]
     },
     "metadata": {},
     "output_type": "display_data"
    }
   ],
   "source": [
    "## Unique conversions on the \"capture\" event.\n",
    "add_metric('add_to_cart_Revenue',\n",
    "    f\"\"\"\n",
    "        SELECT\n",
    "            {event_subject_id},\n",
    "            sum(revenue) as observation\n",
    "        FROM\n",
    "            experiment_events\n",
    "        WHERE\n",
    "            event_name = \"add_to_cart\"\n",
    "        GROUP BY\n",
    "            {event_subject_id}\n",
    "    \"\"\"\n",
    ")"
   ]
  },
  {
   "cell_type": "markdown",
   "metadata": {},
   "source": [
    "## Compute Experiment subject observations\n",
    "\n",
    "Finally, we join our metric tables with our `subjects` table in order to produce a unified `observations` table.  The `observations` table maps every subject in our experiment to the set of observations made about that subject.\n",
    "\n",
    "We assume that the observation value for any subject that does not appear in a given metric table should be 0."
   ]
  },
  {
   "cell_type": "code",
   "execution_count": 13,
   "metadata": {},
   "outputs": [
    {
     "data": {
      "text/html": [
       "<div>\n",
       "<style scoped>\n",
       "    .dataframe tbody tr th:only-of-type {\n",
       "        vertical-align: middle;\n",
       "    }\n",
       "\n",
       "    .dataframe tbody tr th {\n",
       "        vertical-align: top;\n",
       "    }\n",
       "\n",
       "    .dataframe thead th {\n",
       "        text-align: right;\n",
       "    }\n",
       "</style>\n",
       "<table border=\"1\" class=\"dataframe\">\n",
       "  <thead>\n",
       "    <tr style=\"text-align: right;\">\n",
       "      <th></th>\n",
       "      <th>visitor_id</th>\n",
       "      <th>variation_id</th>\n",
       "      <th>timestamp</th>\n",
       "      <th>add_to_cart_Unique_Conversions</th>\n",
       "      <th>add_to_cart_Total_Conversions</th>\n",
       "      <th>add_to_cart_Revenue</th>\n",
       "    </tr>\n",
       "  </thead>\n",
       "  <tbody>\n",
       "    <tr>\n",
       "      <th>0</th>\n",
       "      <td>visitor_1590445669165</td>\n",
       "      <td>18112613000</td>\n",
       "      <td>2020-05-25 15:27:49.165</td>\n",
       "      <td>0</td>\n",
       "      <td>0</td>\n",
       "      <td>0</td>\n",
       "    </tr>\n",
       "    <tr>\n",
       "      <th>1</th>\n",
       "      <td>visitor_1590445676365</td>\n",
       "      <td>18174970251</td>\n",
       "      <td>2020-05-25 15:27:56.365</td>\n",
       "      <td>0</td>\n",
       "      <td>0</td>\n",
       "      <td>0</td>\n",
       "    </tr>\n",
       "    <tr>\n",
       "      <th>2</th>\n",
       "      <td>visitor_1590445778365</td>\n",
       "      <td>18174970251</td>\n",
       "      <td>2020-05-25 15:29:38.365</td>\n",
       "      <td>1</td>\n",
       "      <td>1</td>\n",
       "      <td>0</td>\n",
       "    </tr>\n",
       "    <tr>\n",
       "      <th>3</th>\n",
       "      <td>visitor_1590445862125</td>\n",
       "      <td>18112613000</td>\n",
       "      <td>2020-05-25 15:31:02.125</td>\n",
       "      <td>1</td>\n",
       "      <td>1</td>\n",
       "      <td>0</td>\n",
       "    </tr>\n",
       "    <tr>\n",
       "      <th>4</th>\n",
       "      <td>visitor_1590445923325</td>\n",
       "      <td>18112613000</td>\n",
       "      <td>2020-05-25 15:32:03.325</td>\n",
       "      <td>0</td>\n",
       "      <td>0</td>\n",
       "      <td>0</td>\n",
       "    </tr>\n",
       "  </tbody>\n",
       "</table>\n",
       "</div>"
      ],
      "text/plain": [
       "              visitor_id variation_id               timestamp  \\\n",
       "0  visitor_1590445669165  18112613000 2020-05-25 15:27:49.165   \n",
       "1  visitor_1590445676365  18174970251 2020-05-25 15:27:56.365   \n",
       "2  visitor_1590445778365  18174970251 2020-05-25 15:29:38.365   \n",
       "3  visitor_1590445862125  18112613000 2020-05-25 15:31:02.125   \n",
       "4  visitor_1590445923325  18112613000 2020-05-25 15:32:03.325   \n",
       "\n",
       "   add_to_cart_Unique_Conversions  add_to_cart_Total_Conversions  \\\n",
       "0                               0                              0   \n",
       "1                               0                              0   \n",
       "2                               1                              1   \n",
       "3                               1                              1   \n",
       "4                               0                              0   \n",
       "\n",
       "   add_to_cart_Revenue  \n",
       "0                    0  \n",
       "1                    0  \n",
       "2                    0  \n",
       "3                    0  \n",
       "4                    0  "
      ]
     },
     "execution_count": 13,
     "metadata": {},
     "output_type": "execute_result"
    }
   ],
   "source": [
    "# Reset the subject observations view\n",
    "spark.sql(f\"\"\"\n",
    "    CREATE OR REPLACE TEMPORARY VIEW observations AS\n",
    "    SELECT * FROM experiment_subjects\n",
    "\"\"\")\n",
    "\n",
    "for metric_name, metric_df in metrics.items():\n",
    "    metric_df.createOrReplaceTempView(\"metric\")\n",
    "    spark.sql(f\"\"\"\n",
    "        CREATE OR REPLACE TEMPORARY VIEW observations AS\n",
    "            SELECT\n",
    "                o.*,\n",
    "                COALESCE(m.observation, 0) as `{metric_name}`\n",
    "            FROM\n",
    "                observations o LEFT JOIN metric m on o.{decision_subject_id} = m.{event_subject_id}\n",
    "    \"\"\")\n",
    "\n",
    "spark.sql(\"SELECT * FROM observations LIMIT 5\").toPandas()"
   ]
  },
  {
   "cell_type": "markdown",
   "metadata": {},
   "source": [
    "## Write observation data\n",
    "\n",
    "Now we'll write our observation data to disk in [Apache Parquet](https://parquet.apache.org/) format"
   ]
  },
  {
   "cell_type": "code",
   "execution_count": 14,
   "metadata": {},
   "outputs": [],
   "source": [
    "spark.sql(\"\"\"SELECT * FROM observations\"\"\").write.mode('overwrite').parquet(observation_output_dir)"
   ]
  },
  {
   "cell_type": "code",
   "execution_count": null,
   "metadata": {},
   "outputs": [],
   "source": []
  }
 ],
 "metadata": {
  "kernelspec": {
   "display_name": "Python 3",
   "language": "python",
   "name": "python3"
  },
  "language_info": {
   "codemirror_mode": {
    "name": "ipython",
    "version": 3
   },
   "file_extension": ".py",
   "mimetype": "text/x-python",
   "name": "python",
   "nbconvert_exporter": "python",
   "pygments_lexer": "ipython3",
   "version": "3.8.5"
  }
 },
 "nbformat": 4,
 "nbformat_minor": 4
}
